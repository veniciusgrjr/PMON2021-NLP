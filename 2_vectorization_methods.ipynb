{
 "cells": [
  {
   "cell_type": "markdown",
   "metadata": {},
   "source": [
    "### Libraries"
   ]
  },
  {
   "cell_type": "code",
   "execution_count": 24,
   "metadata": {},
   "outputs": [],
   "source": [
    "import warnings\n",
    "warnings.filterwarnings('ignore')\n",
    "from sklearn.feature_extraction.text import TfidfVectorizer, CountVectorizer\n",
    "from sklearn import preprocessing\n",
    "from sklearn import metrics\n",
    "from sklearn.model_selection import train_test_split \n",
    "import numpy as np\n",
    "import pandas as pd\n",
    "import time\n",
    "from sklearn.ensemble import RandomForestClassifier"
   ]
  },
  {
   "cell_type": "markdown",
   "metadata": {},
   "source": [
    "### Opening Dataset"
   ]
  },
  {
   "cell_type": "code",
   "execution_count": 11,
   "metadata": {},
   "outputs": [
    {
     "data": {
      "text/html": [
       "<div>\n",
       "<style scoped>\n",
       "    .dataframe tbody tr th:only-of-type {\n",
       "        vertical-align: middle;\n",
       "    }\n",
       "\n",
       "    .dataframe tbody tr th {\n",
       "        vertical-align: top;\n",
       "    }\n",
       "\n",
       "    .dataframe thead th {\n",
       "        text-align: right;\n",
       "    }\n",
       "</style>\n",
       "<table border=\"1\" class=\"dataframe\">\n",
       "  <thead>\n",
       "    <tr style=\"text-align: right;\">\n",
       "      <th></th>\n",
       "      <th>RELATOCLIENTE</th>\n",
       "      <th>PROBLEMA</th>\n",
       "      <th>RELATOCLIENTE_CLEAN</th>\n",
       "    </tr>\n",
       "  </thead>\n",
       "  <tbody>\n",
       "    <tr>\n",
       "      <th>0</th>\n",
       "      <td>cliente entrou em contato informando que está ...</td>\n",
       "      <td>Queda / Intermitência</td>\n",
       "      <td>cliente entrou contato informando esta sem sin...</td>\n",
       "    </tr>\n",
       "    <tr>\n",
       "      <th>1</th>\n",
       "      <td>CLIENTE COM QUEDAS REALIZEI OS TESTE E ENCAMIN...</td>\n",
       "      <td>Queda / Intermitência</td>\n",
       "      <td>cliente com quedas realizei teste encaminhei s...</td>\n",
       "    </tr>\n",
       "    <tr>\n",
       "      <th>2</th>\n",
       "      <td>Cliente reclama de quedas e intermitência , pr...</td>\n",
       "      <td>Queda / Intermitência</td>\n",
       "      <td>cliente reclama quedas intermitencia procedime...</td>\n",
       "    </tr>\n",
       "    <tr>\n",
       "      <th>3</th>\n",
       "      <td>CLIENTE INFORMA QUE INTERNET ESTA COM QUEDAS H...</td>\n",
       "      <td>Queda / Intermitência</td>\n",
       "      <td>cliente informa internet esta com quedas mais ...</td>\n",
       "    </tr>\n",
       "  </tbody>\n",
       "</table>\n",
       "</div>"
      ],
      "text/plain": [
       "                                       RELATOCLIENTE               PROBLEMA  \\\n",
       "0  cliente entrou em contato informando que está ...  Queda / Intermitência   \n",
       "1  CLIENTE COM QUEDAS REALIZEI OS TESTE E ENCAMIN...  Queda / Intermitência   \n",
       "2  Cliente reclama de quedas e intermitência , pr...  Queda / Intermitência   \n",
       "3  CLIENTE INFORMA QUE INTERNET ESTA COM QUEDAS H...  Queda / Intermitência   \n",
       "\n",
       "                                 RELATOCLIENTE_CLEAN  \n",
       "0  cliente entrou contato informando esta sem sin...  \n",
       "1  cliente com quedas realizei teste encaminhei s...  \n",
       "2  cliente reclama quedas intermitencia procedime...  \n",
       "3  cliente informa internet esta com quedas mais ...  "
      ]
     },
     "execution_count": 11,
     "metadata": {},
     "output_type": "execute_result"
    }
   ],
   "source": [
    "path = \"C:/PMON2021-NLP\"\n",
    "file = \"DATASET_CLEAN.csv\"\n",
    "\n",
    "DATASET = pd.read_csv(path + file, error_bad_lines=False, delimiter=';')\n",
    "DATASET.head(4)"
   ]
  },
  {
   "cell_type": "markdown",
   "metadata": {},
   "source": [
    "### Exemple using TF-IDF"
   ]
  },
  {
   "cell_type": "code",
   "execution_count": 29,
   "metadata": {},
   "outputs": [
    {
     "name": "stdout",
     "output_type": "stream",
     "text": [
      "Tempo de execução: 0.06 segundos\n",
      "Acurácia: 0.6667\n"
     ]
    }
   ],
   "source": [
    "import warnings\n",
    "warnings.filterwarnings('ignore')\n",
    "\n",
    "X_train, X_test, y_train, y_test = train_test_split( DATASET[\"RELATOCLIENTE_CLEAN\"] ,\n",
    "                                                    DATASET[\"PROBLEMA\"], \n",
    "                                                    train_size=0.80, random_state=28)\n",
    "\n",
    "encoder = preprocessing.LabelEncoder()\n",
    "y_train = encoder.fit_transform(y_train)\n",
    "y_test = encoder.fit_transform(y_test)\n",
    "\n",
    "\n",
    "vectorizer = TfidfVectorizer()\n",
    "X_train_v = vectorizer.fit_transform(X_train.apply(str))\n",
    "X_test_v = vectorizer.transform(X_test.apply(str))\n",
    "\n",
    "ini = time.time()\n",
    "\n",
    "rf = RandomForestClassifier(n_estimators=50, random_state=1)\n",
    "rf.fit(X_train_v, y_train)\n",
    "Y_previsto_RF = rf.predict(X_test_v)\n",
    "\n",
    "fim = time.time()\n",
    "print( \"Tempo de execução: {:.2f} segundos\".format(fim-ini) )\n",
    "\n",
    "# Análise da previsão\n",
    "p_ac = metrics.accuracy_score(y_test, np.floor( Y_previsto_RF) )\n",
    "print(\"Acurácia: {:.4f}\".format(p_ac) ) "
   ]
  },
  {
   "cell_type": "code",
   "execution_count": 22,
   "metadata": {},
   "outputs": [
    {
     "data": {
      "text/plain": [
       "269    cliente reclama nao esta batendo valor contrat...\n",
       "120                            cliente massiva sem prazo\n",
       "1      cliente com quedas realizei teste encaminhei s...\n",
       "280           cliente informa esta com baixa velocidade \n",
       "9      cliente informa esta sem conexao feito procedi...\n",
       "                             ...                        \n",
       "259    cliente possui telefone respondeu mensagem rec...\n",
       "32     averiguei algum problema massiva pedi cliente ...\n",
       "278                    teste dow ping teste dow up ping \n",
       "5      procedimentos realizados cliente reclamando qu...\n",
       "257    cliente informa esta com banda larga bastante ...\n",
       "Name: RELATOCLIENTE_CLEAN, Length: 150, dtype: object"
      ]
     },
     "execution_count": 22,
     "metadata": {},
     "output_type": "execute_result"
    }
   ],
   "source": [
    "X_train"
   ]
  },
  {
   "cell_type": "markdown",
   "metadata": {},
   "source": [
    "### sparse matrix"
   ]
  },
  {
   "cell_type": "code",
   "execution_count": 23,
   "metadata": {},
   "outputs": [
    {
     "data": {
      "text/plain": [
       "<150x572 sparse matrix of type '<class 'numpy.float64'>'\n",
       "\twith 2028 stored elements in Compressed Sparse Row format>"
      ]
     },
     "execution_count": 23,
     "metadata": {},
     "output_type": "execute_result"
    }
   ],
   "source": [
    "X_train_v"
   ]
  },
  {
   "cell_type": "markdown",
   "metadata": {},
   "source": [
    "### Exemple using CountVectorizer "
   ]
  },
  {
   "cell_type": "code",
   "execution_count": 30,
   "metadata": {},
   "outputs": [
    {
     "name": "stdout",
     "output_type": "stream",
     "text": [
      "Tempo de execução: 0.06 segundos\n",
      "Acurácia: 0.6000\n"
     ]
    }
   ],
   "source": [
    "import warnings\n",
    "warnings.filterwarnings('ignore')\n",
    "\n",
    "def cv(data):\n",
    "    count_vectorizer = CountVectorizer()\n",
    "\n",
    "    emb = count_vectorizer.fit_transform(data)\n",
    "\n",
    "    return emb, count_vectorizer\n",
    "\n",
    "\n",
    "list_corpus = DATASET[\"RELATOCLIENTE_CLEAN\"].tolist()\n",
    "list_labels = DATASET[\"PROBLEMA\"].tolist()\n",
    "\n",
    "X_train, X_test, y_train, y_test = train_test_split(list_corpus, list_labels, train_size=0.80, \n",
    "                                                                                random_state=28)\n",
    "\n",
    "X_train_v, count_vectorizer = cv(X_train)\n",
    "X_test_v = count_vectorizer.transform(X_test)\n",
    "\n",
    "encoder = preprocessing.LabelEncoder()\n",
    "y_train = encoder.fit_transform(y_train)\n",
    "y_test = encoder.fit_transform(y_test)\n",
    "\n",
    "\n",
    "ini = time.time()\n",
    "\n",
    "rf = RandomForestClassifier(n_estimators=50, random_state=1)\n",
    "rf.fit(X_train_v, y_train)\n",
    "Y_previsto_RF = rf.predict(X_test_v)\n",
    "\n",
    "fim = time.time()\n",
    "print( \"Tempo de execução: {:.2f} segundos\".format(fim-ini) )\n",
    "\n",
    "# Análise da previsão\n",
    "p_ac = metrics.accuracy_score(y_test, np.floor( Y_previsto_RF) )\n",
    "print(\"Acurácia: {:.4f}\".format(p_ac) ) "
   ]
  },
  {
   "cell_type": "code",
   "execution_count": 33,
   "metadata": {},
   "outputs": [
    {
     "data": {
      "text/plain": [
       "<240x732 sparse matrix of type '<class 'numpy.int64'>'\n",
       "\twith 3252 stored elements in Compressed Sparse Row format>"
      ]
     },
     "execution_count": 33,
     "metadata": {},
     "output_type": "execute_result"
    }
   ],
   "source": [
    "X_train_v"
   ]
  },
  {
   "cell_type": "code",
   "execution_count": null,
   "metadata": {},
   "outputs": [],
   "source": []
  }
 ],
 "metadata": {
  "kernelspec": {
   "display_name": "Python 3",
   "language": "python",
   "name": "python3"
  },
  "language_info": {
   "codemirror_mode": {
    "name": "ipython",
    "version": 3
   },
   "file_extension": ".py",
   "mimetype": "text/x-python",
   "name": "python",
   "nbconvert_exporter": "python",
   "pygments_lexer": "ipython3",
   "version": "3.8.5"
  }
 },
 "nbformat": 4,
 "nbformat_minor": 4
}
