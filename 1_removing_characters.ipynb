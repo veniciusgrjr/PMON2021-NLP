{
 "cells": [
  {
   "cell_type": "code",
   "execution_count": 2,
   "metadata": {},
   "outputs": [
    {
     "name": "stdout",
     "output_type": "stream",
     "text": [
      "3.8.5\n"
     ]
    }
   ],
   "source": [
    "from platform import python_version\n",
    "\n",
    "print(python_version())"
   ]
  },
  {
   "cell_type": "code",
   "execution_count": 3,
   "metadata": {},
   "outputs": [
    {
     "name": "stdout",
     "output_type": "stream",
     "text": [
      "jupyter core     : 4.6.3\n",
      "jupyter-notebook : 6.1.4\n",
      "qtconsole        : 4.7.7\n",
      "ipython          : 7.19.0\n",
      "ipykernel        : 5.3.4\n",
      "jupyter client   : 6.1.7\n",
      "jupyter lab      : 2.2.6\n",
      "nbconvert        : 6.0.7\n",
      "ipywidgets       : 7.5.1\n",
      "nbformat         : 5.0.8\n",
      "traitlets        : 5.0.5\n"
     ]
    }
   ],
   "source": [
    "!jupyter --version"
   ]
  },
  {
   "cell_type": "markdown",
   "metadata": {},
   "source": [
    "### Libraries"
   ]
  },
  {
   "cell_type": "code",
   "execution_count": 43,
   "metadata": {},
   "outputs": [],
   "source": [
    "import warnings\n",
    "warnings.filterwarnings('ignore')\n",
    "import nltk\n",
    "nltk.download('stopwords')\n",
    "import numpy as np\n",
    "import pandas as pd"
   ]
  },
  {
   "cell_type": "markdown",
   "metadata": {},
   "source": [
    "### Variables and methods"
   ]
  },
  {
   "cell_type": "code",
   "execution_count": 51,
   "metadata": {},
   "outputs": [],
   "source": [
    "\"\"\"\n",
    "Characters and words to be removed in a particular way\n",
    "\"\"\"\n",
    "spec_chars = [\"!\",'\"',\"#\",\"%\",\"&\",\"'\",\"(\",\")\",\"*\",\"+\",\",\",\"-\",\".\",\"/\",\":\",\";\",\"<\",\"\\n\",\n",
    "              \"=\",\">\",\"?\",\"@\",\"[\",\"\\\\\",\"]\",\"^\",\"_\",\"`\",\"{\",\"|\",\"}\",\"~\",\"–\",\"1\",\"2\",\n",
    "              \"3\",\"4\",\"5\",\"6\",\"7\",\"8\",\"9\",\"0\",\" a \",\" b \",\" c \",\" d \",\" e \",\" f \",\n",
    "              \" g \",\" h \",\" i \",\" j \",\" k \",\" l \",\" m \",\" n \",\" o \",\" p \",\" q \",\n",
    "              \" r \",\" s \",\" t \",\" u \",\" v \",\" x \",\" z \", \" cs \", \" de \", \" rj \",\n",
    "              \" kl \", \" em \", \" id \", \" rx \", \" da \", \" na \", \" os \",\n",
    "              \" no \", \" ao \", \" já \", \" dz \", \" se \", \" on \", \" sp \", \" do \",\n",
    "              \" ou \", \" um \", \" sr \", \" bo \", \" br \", \" to \", \" fa \", \" nt \",\n",
    "              \" às \", \" há \", \" bl \", \" ap \", \" ba \", \" ze \", \" as \", \" pe \",\n",
    "              \" sn \", \" qd \", \" lt \", \" go \", \" ja \", \" lá \", \" el \", \" tx \",\n",
    "              \" me \", \" of \", \" bh \", \" tt \", \" ha \", \" ta \", \" ni \", \" le \",\n",
    "              \" tg \", \" cp \", \" cz \", \" an \", \" tr \", \" ea \", \" ef \", \" ok \",\n",
    "              \" sa \", \" cd \", \" pq \", \" ar \", \" sm \", \" ed \", \" xv \", \" am \",\n",
    "              \" so \", \" ot \", \" só \", \" ma \", \" pc \", \" la \", \" lj \", \" eu \",\n",
    "              \" ue \", \" cj \", \" df \", \" mf \", \" ir \", \" in \", \" tá \", \" jr \",\n",
    "              \" sw \", \" ga \", \" ah \", \" pi \", \" ii \", \" gb \", \" pf \", \" we \",\n",
    "              \" if \", \" ip \", \" gg \", \" kc \", \" lo \", \" ws \", \" mg \", \" sl \",\n",
    "              \" rc \", \" hr \", \" af \", \" rp \", \" jk \", \" re \", \" qu \", \" eo \",\n",
    "              \" ps \", \" gs \", \" fr \", \" tj \", \" jc \", \" fc \", \" ai \", \" vi \",\n",
    "              \" ca \", \" dá \", \" od \", \" pr \", \" nr \", \" vl \", \" bs \", \" fi \",\n",
    "              \" si \", \" al \", \" xx \", \" jd \", \" su \", \" vá \", \" bc \", \" fl \",\n",
    "              \" js \", \" op \", \" fe \", \" vg \", \" oi \", \" vz \", \" mb \", \" cf \",\n",
    "              \" ia \", \" or \", \" ´´ \", \" nã \", \" ás \", \" ds \", \" ti \", \" rb \",\n",
    "              \" lg \", \" co \", \" oq \", \" te \", \" fd \", \" at \", \" mv \", \" es \",\n",
    "              \" ng \", \" ne \", \" hg \", \" hb \", \" hc \", \" he \", \" uf \", \" hs \",\n",
    "              \" hd \", \" vf \", \" nº \", \" mt \", \" ph \", \" dt \", \" zo \", \" xi \",\n",
    "              \" cx \", \" hm \", \" r$ \", \" ra \", \" vt \", \" di \", \" gm \", \" ss \",\n",
    "              \" li \", \" fu \", \" av \", \" bi \", \" ho \", \" pa \", \" kg \", \" xe \",\n",
    "              \" ua \", \" bx \", \" nu \", \" rio \", \" que \",\n",
    "              \" aaa \", \" abr \", \" foi \", \" por \", \" sua \", \" ont \", \" olt \",\n",
    "              \" cpf \", \" via \", \" pra \", \" ela \", \" uma \",\n",
    "              \" era \", \" dia \", \" rua \", \" cop \", \" sao \",\n",
    "              \" nem \", \" mas \", \" ott \", \" inf \", \" tel \", \" crc \",\n",
    "              \" tim \", \" crm \", \" dcf \", \" dga \", \" sim \", \" lin \", \" obs \",\n",
    "              \" doc \", \" dos \", \" nrm \", \" fim \", \" faz \", \" vem \", \" los \",\n",
    "              \" seu \", \" aos \", \" dsl \", \" até \", \" ser \", \" das \", \" ele \",\n",
    "              \" uns \", \" lpr \", \" dwn \", \" ira \", \" ura \", \" usa \",\n",
    "              \" bom \", \" fio \", \" ter \", \" irá \", \" vai \", \" san \",\n",
    "              \" gcs \", \" fiz \", \" wpp \", \" pon \", \" fez \", \" crt \",\n",
    "              \" vez \", \" vão \", \" ate \", \" mês \", \" pai \", \" nos \",\n",
    "              \" fpi \", \" sfi \", \" sra \", \" not \", \" mac \",\n",
    "              \" ana \", \" poa \", \" diz \", \" xtu \", \" atu \", \" deu \", \" the \",\n",
    "              \" mso \", \" cli \", \" são \", \" xao \", \" mei \", \" sob \", \" nas \",\n",
    "              \" rmt \", \" ras \", \" ver \", \" adr \", \" zap \", \" for \",\n",
    "              \" eun \", \" ney \", \" sol \", \" lee \", \" adv \", \" hrs \", \" nil \",\n",
    "              \" fst \", \" adm \", \" qnl \", \" blg \", \" gui \", \" fid \", \" mab \",\n",
    "              \" del \", \" mdf \", \" mrt \", \" zxa \", \" agg \", \" leo \", \" nom \",\n",
    "              \" qua \", \" viu \", \" mau \", \" sul \", \" abp \", \" nãp \", \" téc \",\n",
    "              \" fui \", \" mãe \", \" mes \", \" des \", \" ano \", \" czl \", \" apt \",\n",
    "              \" spa \", \" you \", \" use \", \" bit \", \" tec \",\n",
    "              \" ian \", \" res \", \" mal \", \" vms \", \" joy \", \" zat \", \" xml \",\n",
    "              \" lmo \", \" cep \", \" jpa \", \" nqt \", \" ctt \", \" nig \", \" lhe \",\n",
    "              \" ido \", \" sou \", \" tbs \", \" qeu \", \" hsc \", \" max \", \" meu \",\n",
    "              \" csa \", \" vel \", \" lua \", \" ida \", \" fox \", \" mvc \", \" iae \",\n",
    "              \" bia \", \" dai \", \" clj \", \" iva \", \" box \", \" rec \", \" pio \",\n",
    "              \" esa \", \" qxq \", \" lan \", \" fia \", \" rea \", \" sme \", \" gdm \",\n",
    "              \" dom \", \" dês \", \" ipe \", \" dar \", \" naõ \", \" ray \", \" pat \",\n",
    "              \" feh \", \" van \", \" gwa \", \" ari \", \" dez \", \" far \", \" vaz \",\n",
    "              \" blc \", \" app \", \" bem \", \" gil \", \" aap \", \" end \", \" day \",\n",
    "              \" cor \", \" bad \", \" nte \", \" cal \", \" gna \", \" eta \", \" fiu \",\n",
    "              \" rey \", \" ong \", \" etc \", \" jsa \", \" dds \", \" cpa \", \" wps \",\n",
    "              \" paz \", \" rei \", \" sne \", \" pro \", \" hsr \", \" spf \", \" ciu \",\n",
    "              \" bar \", \" ddc \", \" pre \", \" hap \", \" and \", \" bko \", \" cbs \",\n",
    "              \" nei \", \" qwz \", \" rjw \", \" val \", \" rms \", \" ode \", \" jrs \",\n",
    "              \" ces \", \" min \", \" osp \", \" pau \", \" pri \", \" ali \", \" bon \",\n",
    "              \" fup \", \" sai \", \" els \", \" msm \", \" fds \", \" rja \", \" car \",\n",
    "              \" tbm \", \" ezt \", \" rib \", \" rtm \", \" rjo \", \" msa \", \" pen \",\n",
    "              \" aua \", \" zek \", \" svs \", \" ntt \", \" mpp \", \" mps \", \" par \", \n",
    "              \" ivo \", \" sei \", \" ctp \", \" joa \", \" cce \", \" mts \", \" sup \",\n",
    "              \" gdl \", \" msg \", \" srv \", \" cam \", \" ent \", \" noc \", \" pao \",\n",
    "              \" hem \", \" ase \", \" mar \", \" utc \", \" lot \", \" hid \", \" sax \",\n",
    "              \" ary \", \" spo \", \" ben \", \" jhs \", \" ale \", \" xxx \", \" cfp \",\n",
    "              \" eur \", \" rtr \", \" alp \", \" sla \", \" out \", \" pos \", \" blo \",\n",
    "              \" hpo \", \" mim \", \" ccd \", \" ery \", \" ezs \", \" jao \", \" lpd \",\n",
    "              \" mtc \", \" hda \", \" mos \", \" epy \", \" gdf \", \" wtc \", \" wrk \",\n",
    "              \" tie \", \" jsf \", \" ids \", \" cel \", \" bra \", \" vap \", \" bpn \",\n",
    "              \" ref \", \" cgd \", \" sky \", \" rod \", \" isa \", \" emc \", \" rce \",\n",
    "              \" arq \", \" apa \", \" fps \", \" mns \", \" tom \", \" ype \", \" rck \",\n",
    "              \"  \",\"     \",\"    \", \"   \", \"  \"]\n",
    "\n",
    "def clean(text, words):\n",
    "    \"\"\"\n",
    "    Function to clean a single text using nltk for portuguese language\n",
    "    text : string/text field to be cleaned.\n",
    "    words: list with signals and words to be removed.\n",
    "    \"\"\"\n",
    "    text = text.lower()\n",
    "    stopwords = nltk.corpus.stopwords.words('portuguese')\n",
    "    \n",
    "    for w in words:\n",
    "        first = w[0]\n",
    "        second = w[1]\n",
    "        text = text.replace( first, second)\n",
    "    \n",
    "    for w in stopwords:\n",
    "        text = text.replace( str(\" \") + w + str(\" \") , \" \")\n",
    "    \n",
    "    return text\n",
    "\n",
    "def standardize_text(df, text_field):\n",
    "    \"\"\"\n",
    "    Function to clean text fields of the column of a dataset\n",
    "    df : DATASET.\n",
    "    text_field: Column name of the text field.\n",
    "    \n",
    "    \"\"\"\n",
    "    df[text_field + \"_CLEAN\"] = df[text_field].str.replace(r\"http\\S+\", \"\")\n",
    "    df[text_field + \"_CLEAN\"] = df[text_field + \"_CLEAN\"].str.replace(r\"http\", \"\")\n",
    "    df[text_field + \"_CLEAN\"] = df[text_field + \"_CLEAN\"].str.replace(r\"@\\S+\", \"\")\n",
    "    #df[text_field + \"_CLEAN\"] = df[text_field + \"_CLEAN\"].str.replace(r\"[^A-Za-z0-9(),!?@\\'\\`\\\"\\_\\n]\", \" \")\n",
    "    df[text_field + \"_CLEAN\"] = df[text_field + \"_CLEAN\"].str.lower()\n",
    "    df[text_field + \"_CLEAN\"] = df[text_field + \"_CLEAN\"].str.replace(r\"@\", \" \")\n",
    "    df[text_field + \"_CLEAN\"] = df[text_field + \"_CLEAN\"].str.replace(\"cpf\", \" \")\n",
    "    df[text_field + \"_CLEAN\"] = df[text_field + \"_CLEAN\"].str.replace(\"ç\", \"c\")\n",
    "    df[text_field + \"_CLEAN\"] = df[text_field + \"_CLEAN\"].str.replace(\"ã\", \"a\")\n",
    "    df[text_field + \"_CLEAN\"] = df[text_field + \"_CLEAN\"].str.replace(\"õ\", \"o\")\n",
    "    df[text_field + \"_CLEAN\"] = df[text_field + \"_CLEAN\"].str.replace(\"á\", \"a\")\n",
    "    df[text_field + \"_CLEAN\"] = df[text_field + \"_CLEAN\"].str.replace(\"é\", \"e\")\n",
    "    df[text_field + \"_CLEAN\"] = df[text_field + \"_CLEAN\"].str.replace(\"í\", \"i\")\n",
    "    df[text_field + \"_CLEAN\"] = df[text_field + \"_CLEAN\"].str.replace(\"ó\", \"o\")\n",
    "    df[text_field + \"_CLEAN\"] = df[text_field + \"_CLEAN\"].str.replace(\"ú\", \"u\")\n",
    "    df[text_field + \"_CLEAN\"] = df[text_field + \"_CLEAN\"].str.replace(\"à\", \"a\")\n",
    "    df[text_field + \"_CLEAN\"] = df[text_field + \"_CLEAN\"].str.replace(\"â\", \"a\")\n",
    "    df[text_field + \"_CLEAN\"] = df[text_field + \"_CLEAN\"].str.replace(\"ê\", \"e\")\n",
    "    df[text_field + \"_CLEAN\"] = df[text_field + \"_CLEAN\"].str.replace(\"ô\", \"o\")\n",
    "    df[text_field + \"_CLEAN\"] = df[text_field + \"_CLEAN\"].str.lower()\n",
    "    \n",
    "    for char in spec_chars:\n",
    "        df[text_field + \"_CLEAN\"] = df[text_field + \"_CLEAN\"].str.replace( char, \" \")\n",
    "        \n",
    "    df[text_field + \"_CLEAN\"] = df[text_field + \"_CLEAN\"].str.replace(\"\t\", \" \")\n",
    "    \n",
    "    for i in range(30):\n",
    "        df[text_field + \"_CLEAN\"] = df[text_field + \"_CLEAN\"].str.replace(\"  \", \" \", regex=True)\n",
    "    \n",
    "    return df\n"
   ]
  },
  {
   "cell_type": "markdown",
   "metadata": {},
   "source": [
    "### Opening Dataset"
   ]
  },
  {
   "cell_type": "code",
   "execution_count": 48,
   "metadata": {},
   "outputs": [
    {
     "data": {
      "text/html": [
       "<div>\n",
       "<style scoped>\n",
       "    .dataframe tbody tr th:only-of-type {\n",
       "        vertical-align: middle;\n",
       "    }\n",
       "\n",
       "    .dataframe tbody tr th {\n",
       "        vertical-align: top;\n",
       "    }\n",
       "\n",
       "    .dataframe thead th {\n",
       "        text-align: right;\n",
       "    }\n",
       "</style>\n",
       "<table border=\"1\" class=\"dataframe\">\n",
       "  <thead>\n",
       "    <tr style=\"text-align: right;\">\n",
       "      <th></th>\n",
       "      <th>RELATOCLIENTE</th>\n",
       "      <th>PROBLEMA</th>\n",
       "    </tr>\n",
       "  </thead>\n",
       "  <tbody>\n",
       "    <tr>\n",
       "      <th>0</th>\n",
       "      <td>cliente entrou em contato informando que está ...</td>\n",
       "      <td>Queda / Intermitência</td>\n",
       "    </tr>\n",
       "    <tr>\n",
       "      <th>1</th>\n",
       "      <td>CLIENTE COM QUEDAS REALIZEI OS TESTE E ENCAMIN...</td>\n",
       "      <td>Queda / Intermitência</td>\n",
       "    </tr>\n",
       "    <tr>\n",
       "      <th>2</th>\n",
       "      <td>Cliente reclama de quedas e intermitência , pr...</td>\n",
       "      <td>Queda / Intermitência</td>\n",
       "    </tr>\n",
       "    <tr>\n",
       "      <th>3</th>\n",
       "      <td>CLIENTE INFORMA QUE INTERNET ESTA COM QUEDAS H...</td>\n",
       "      <td>Queda / Intermitência</td>\n",
       "    </tr>\n",
       "  </tbody>\n",
       "</table>\n",
       "</div>"
      ],
      "text/plain": [
       "                                       RELATOCLIENTE               PROBLEMA\n",
       "0  cliente entrou em contato informando que está ...  Queda / Intermitência\n",
       "1  CLIENTE COM QUEDAS REALIZEI OS TESTE E ENCAMIN...  Queda / Intermitência\n",
       "2  Cliente reclama de quedas e intermitência , pr...  Queda / Intermitência\n",
       "3  CLIENTE INFORMA QUE INTERNET ESTA COM QUEDAS H...  Queda / Intermitência"
      ]
     },
     "execution_count": 48,
     "metadata": {},
     "output_type": "execute_result"
    }
   ],
   "source": [
    "path = \"C:/PMON2021-NLP/\"\n",
    "file = \"DATASET.csv\"\n",
    "\n",
    "DATASET = pd.read_csv(path + file, error_bad_lines=False, delimiter=';')\n",
    "DATASET.head(4)"
   ]
  },
  {
   "cell_type": "markdown",
   "metadata": {},
   "source": [
    "### Kind of problem\n",
    "50 rowns for each kind of problem"
   ]
  },
  {
   "cell_type": "code",
   "execution_count": 49,
   "metadata": {
    "scrolled": true
   },
   "outputs": [
    {
     "data": {
      "text/plain": [
       "Queda / Intermitência               50\n",
       "Modem sem sincronismo               50\n",
       "Massiva                             50\n",
       "Modem sincronizado e autenticado    50\n",
       "Parâmetros Ruins                    50\n",
       "Baixa Velocidade                    50\n",
       "Name: PROBLEMA, dtype: int64"
      ]
     },
     "execution_count": 49,
     "metadata": {},
     "output_type": "execute_result"
    }
   ],
   "source": [
    "DATASET[\"PROBLEMA\"].value_counts()"
   ]
  },
  {
   "cell_type": "markdown",
   "metadata": {},
   "source": [
    "### Cleaning text fields"
   ]
  },
  {
   "cell_type": "code",
   "execution_count": 50,
   "metadata": {},
   "outputs": [
    {
     "data": {
      "text/html": [
       "<div>\n",
       "<style scoped>\n",
       "    .dataframe tbody tr th:only-of-type {\n",
       "        vertical-align: middle;\n",
       "    }\n",
       "\n",
       "    .dataframe tbody tr th {\n",
       "        vertical-align: top;\n",
       "    }\n",
       "\n",
       "    .dataframe thead th {\n",
       "        text-align: right;\n",
       "    }\n",
       "</style>\n",
       "<table border=\"1\" class=\"dataframe\">\n",
       "  <thead>\n",
       "    <tr style=\"text-align: right;\">\n",
       "      <th></th>\n",
       "      <th>RELATOCLIENTE</th>\n",
       "      <th>PROBLEMA</th>\n",
       "      <th>RELATOCLIENTE_CLEAN</th>\n",
       "    </tr>\n",
       "  </thead>\n",
       "  <tbody>\n",
       "    <tr>\n",
       "      <th>0</th>\n",
       "      <td>cliente entrou em contato informando que está ...</td>\n",
       "      <td>Queda / Intermitência</td>\n",
       "      <td>cliente entrou contato informando esta sem sin...</td>\n",
       "    </tr>\n",
       "    <tr>\n",
       "      <th>1</th>\n",
       "      <td>CLIENTE COM QUEDAS REALIZEI OS TESTE E ENCAMIN...</td>\n",
       "      <td>Queda / Intermitência</td>\n",
       "      <td>cliente com quedas realizei teste encaminhei s...</td>\n",
       "    </tr>\n",
       "    <tr>\n",
       "      <th>2</th>\n",
       "      <td>Cliente reclama de quedas e intermitência , pr...</td>\n",
       "      <td>Queda / Intermitência</td>\n",
       "      <td>cliente reclama quedas intermitencia procedime...</td>\n",
       "    </tr>\n",
       "    <tr>\n",
       "      <th>3</th>\n",
       "      <td>CLIENTE INFORMA QUE INTERNET ESTA COM QUEDAS H...</td>\n",
       "      <td>Queda / Intermitência</td>\n",
       "      <td>cliente informa internet esta com quedas mais ...</td>\n",
       "    </tr>\n",
       "    <tr>\n",
       "      <th>4</th>\n",
       "      <td>CLIENTE COM QUEDAS INTERMITENTES  ORIENTADO DO...</td>\n",
       "      <td>Queda / Intermitência</td>\n",
       "      <td>cliente com quedas intermitentes orientado pro...</td>\n",
       "    </tr>\n",
       "    <tr>\n",
       "      <th>...</th>\n",
       "      <td>...</td>\n",
       "      <td>...</td>\n",
       "      <td>...</td>\n",
       "    </tr>\n",
       "    <tr>\n",
       "      <th>295</th>\n",
       "      <td>CLIENTE INFORMA QUE A LUZ DO PON ESTÁ EM VERME...</td>\n",
       "      <td>Baixa Velocidade</td>\n",
       "      <td>cliente informa luz esta vermelho com isso sin...</td>\n",
       "    </tr>\n",
       "    <tr>\n",
       "      <th>296</th>\n",
       "      <td>CLIENTE ESTA COM BAIXA VELOCIDADE, FOI FEITO A...</td>\n",
       "      <td>Baixa Velocidade</td>\n",
       "      <td>cliente esta com baixa velocidade feito verifi...</td>\n",
       "    </tr>\n",
       "    <tr>\n",
       "      <th>297</th>\n",
       "      <td>TESTE DE VELOCIDADEDOW: 310PING: 3UP: 125</td>\n",
       "      <td>Baixa Velocidade</td>\n",
       "      <td>teste velocidadedow ping up</td>\n",
       "    </tr>\n",
       "    <tr>\n",
       "      <th>298</th>\n",
       "      <td>Cliente sem conexão o mesmo já ligou aqui dia ...</td>\n",
       "      <td>Baixa Velocidade</td>\n",
       "      <td>cliente sem conexao mesmo ligou aqui fechou pr...</td>\n",
       "    </tr>\n",
       "    <tr>\n",
       "      <th>299</th>\n",
       "      <td>CLIENTE ESTA COM BAIXA VELOCIDADE, FOI TROCADO...</td>\n",
       "      <td>Baixa Velocidade</td>\n",
       "      <td>cliente esta com baixa velocidade trocado para...</td>\n",
       "    </tr>\n",
       "  </tbody>\n",
       "</table>\n",
       "<p>300 rows × 3 columns</p>\n",
       "</div>"
      ],
      "text/plain": [
       "                                         RELATOCLIENTE               PROBLEMA  \\\n",
       "0    cliente entrou em contato informando que está ...  Queda / Intermitência   \n",
       "1    CLIENTE COM QUEDAS REALIZEI OS TESTE E ENCAMIN...  Queda / Intermitência   \n",
       "2    Cliente reclama de quedas e intermitência , pr...  Queda / Intermitência   \n",
       "3    CLIENTE INFORMA QUE INTERNET ESTA COM QUEDAS H...  Queda / Intermitência   \n",
       "4    CLIENTE COM QUEDAS INTERMITENTES  ORIENTADO DO...  Queda / Intermitência   \n",
       "..                                                 ...                    ...   \n",
       "295  CLIENTE INFORMA QUE A LUZ DO PON ESTÁ EM VERME...       Baixa Velocidade   \n",
       "296  CLIENTE ESTA COM BAIXA VELOCIDADE, FOI FEITO A...       Baixa Velocidade   \n",
       "297          TESTE DE VELOCIDADEDOW: 310PING: 3UP: 125       Baixa Velocidade   \n",
       "298  Cliente sem conexão o mesmo já ligou aqui dia ...       Baixa Velocidade   \n",
       "299  CLIENTE ESTA COM BAIXA VELOCIDADE, FOI TROCADO...       Baixa Velocidade   \n",
       "\n",
       "                                   RELATOCLIENTE_CLEAN  \n",
       "0    cliente entrou contato informando esta sem sin...  \n",
       "1    cliente com quedas realizei teste encaminhei s...  \n",
       "2    cliente reclama quedas intermitencia procedime...  \n",
       "3    cliente informa internet esta com quedas mais ...  \n",
       "4    cliente com quedas intermitentes orientado pro...  \n",
       "..                                                 ...  \n",
       "295  cliente informa luz esta vermelho com isso sin...  \n",
       "296  cliente esta com baixa velocidade feito verifi...  \n",
       "297                       teste velocidadedow ping up   \n",
       "298  cliente sem conexao mesmo ligou aqui fechou pr...  \n",
       "299  cliente esta com baixa velocidade trocado para...  \n",
       "\n",
       "[300 rows x 3 columns]"
      ]
     },
     "execution_count": 50,
     "metadata": {},
     "output_type": "execute_result"
    }
   ],
   "source": [
    "DATASET = standardize_text(DATASET, \"RELATOCLIENTE\")\n",
    "DATASET"
   ]
  },
  {
   "cell_type": "code",
   "execution_count": 62,
   "metadata": {},
   "outputs": [],
   "source": [
    "path_save = \"C:/PMON2021-NLP/\"\n",
    "file = \"DATASET_CLEAN\"+ \".csv\"\n",
    "\n",
    "DATASET.to_csv(path_save + file,  index = False, sep=';')"
   ]
  },
  {
   "cell_type": "code",
   "execution_count": null,
   "metadata": {},
   "outputs": [],
   "source": []
  }
 ],
 "metadata": {
  "kernelspec": {
   "display_name": "Python 3",
   "language": "python",
   "name": "python3"
  },
  "language_info": {
   "codemirror_mode": {
    "name": "ipython",
    "version": 3
   },
   "file_extension": ".py",
   "mimetype": "text/x-python",
   "name": "python",
   "nbconvert_exporter": "python",
   "pygments_lexer": "ipython3",
   "version": "3.8.5"
  }
 },
 "nbformat": 4,
 "nbformat_minor": 4
}
